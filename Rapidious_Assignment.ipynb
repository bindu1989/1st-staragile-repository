{
  "nbformat": 4,
  "nbformat_minor": 0,
  "metadata": {
    "colab": {
      "provenance": [],
      "authorship_tag": "ABX9TyPMDI/hWlZW9dmtLXPfVBRe",
      "include_colab_link": true
    },
    "kernelspec": {
      "name": "python3",
      "display_name": "Python 3"
    },
    "language_info": {
      "name": "python"
    }
  },
  "cells": [
    {
      "cell_type": "markdown",
      "metadata": {
        "id": "view-in-github",
        "colab_type": "text"
      },
      "source": [
        "<a href=\"https://colab.research.google.com/github/bindu1989/1st-staragile-repository/blob/main/Rapidious_Assignment.ipynb\" target=\"_parent\"><img src=\"https://colab.research.google.com/assets/colab-badge.svg\" alt=\"Open In Colab\"/></a>"
      ]
    },
    {
      "cell_type": "code",
      "source": [
        "pip install Unidecode"
      ],
      "metadata": {
        "colab": {
          "base_uri": "https://localhost:8080/"
        },
        "id": "HHvFE5kre7M6",
        "outputId": "98a6927b-e2f9-46fc-c80b-e98947cf70e2"
      },
      "execution_count": 4,
      "outputs": [
        {
          "output_type": "stream",
          "name": "stdout",
          "text": [
            "Collecting Unidecode\n",
            "  Downloading Unidecode-1.3.8-py3-none-any.whl.metadata (13 kB)\n",
            "Downloading Unidecode-1.3.8-py3-none-any.whl (235 kB)\n",
            "\u001b[?25l   \u001b[90m━━━━━━━━━━━━━━━━━━━━━━━━━━━━━━━━━━━━━━━━\u001b[0m \u001b[32m0.0/235.5 kB\u001b[0m \u001b[31m?\u001b[0m eta \u001b[36m-:--:--\u001b[0m\r\u001b[2K   \u001b[91m━━━━━━━━━━━━━━━━━━━━\u001b[0m\u001b[91m╸\u001b[0m\u001b[90m━━━━━━━━━━━━━━━━━━━\u001b[0m \u001b[32m122.9/235.5 kB\u001b[0m \u001b[31m3.9 MB/s\u001b[0m eta \u001b[36m0:00:01\u001b[0m\r\u001b[2K   \u001b[90m━━━━━━━━━━━━━━━━━━━━━━━━━━━━━━━━━━━━━━━━\u001b[0m \u001b[32m235.5/235.5 kB\u001b[0m \u001b[31m4.1 MB/s\u001b[0m eta \u001b[36m0:00:00\u001b[0m\n",
            "\u001b[?25hInstalling collected packages: Unidecode\n",
            "Successfully installed Unidecode-1.3.8\n"
          ]
        }
      ]
    },
    {
      "cell_type": "code",
      "source": [
        "pip install pyspark"
      ],
      "metadata": {
        "colab": {
          "base_uri": "https://localhost:8080/"
        },
        "id": "LqlG339De7-w",
        "outputId": "d72fb4e9-46e7-4066-ebe9-247a7988b911"
      },
      "execution_count": 5,
      "outputs": [
        {
          "output_type": "stream",
          "name": "stdout",
          "text": [
            "Collecting pyspark\n",
            "  Downloading pyspark-3.5.3.tar.gz (317.3 MB)\n",
            "\u001b[2K     \u001b[90m━━━━━━━━━━━━━━━━━━━━━━━━━━━━━━━━━━━━━━━━\u001b[0m \u001b[32m317.3/317.3 MB\u001b[0m \u001b[31m4.6 MB/s\u001b[0m eta \u001b[36m0:00:00\u001b[0m\n",
            "\u001b[?25h  Preparing metadata (setup.py) ... \u001b[?25l\u001b[?25hdone\n",
            "Requirement already satisfied: py4j==0.10.9.7 in /usr/local/lib/python3.10/dist-packages (from pyspark) (0.10.9.7)\n",
            "Building wheels for collected packages: pyspark\n",
            "  Building wheel for pyspark (setup.py) ... \u001b[?25l\u001b[?25hdone\n",
            "  Created wheel for pyspark: filename=pyspark-3.5.3-py2.py3-none-any.whl size=317840625 sha256=6794cb29a9ba23067b0719d30a5f45230e3f465f394ac16bb6d81e30718a25ed\n",
            "  Stored in directory: /root/.cache/pip/wheels/1b/3a/92/28b93e2fbfdbb07509ca4d6f50c5e407f48dce4ddbda69a4ab\n",
            "Successfully built pyspark\n",
            "Installing collected packages: pyspark\n",
            "Successfully installed pyspark-3.5.3\n"
          ]
        }
      ]
    },
    {
      "cell_type": "code",
      "source": [
        "# import the necessary libraries\n",
        "import unidecode\n",
        "import pandas as pd\n",
        "import numpy as np\n",
        "import seaborn as sns\n",
        "import matplotlib.pyplot as plt"
      ],
      "metadata": {
        "id": "k_5Gj-2Ze81W"
      },
      "execution_count": 6,
      "outputs": []
    },
    {
      "cell_type": "code",
      "source": [
        "from pyspark.sql import SparkSession\n",
        "from pyspark.sql.functions import col, explode, array, count, expr"
      ],
      "metadata": {
        "id": "Y7Vhf_YFgJ81"
      },
      "execution_count": 7,
      "outputs": []
    },
    {
      "cell_type": "code",
      "source": [
        "#upload googledrive to access the file\n",
        "from google.colab import drive"
      ],
      "metadata": {
        "colab": {
          "base_uri": "https://localhost:8080/",
          "height": 121
        },
        "id": "_sjhmbHRpada",
        "outputId": "2fb1cc4f-807e-44fa-f005-f9d1fe812a5b"
      },
      "execution_count": 17,
      "outputs": [
        {
          "output_type": "execute_result",
          "data": {
            "text/plain": [
              "<function google.colab.drive.mount(mountpoint, force_remount=False, timeout_ms=120000, readonly=False)>"
            ],
            "text/html": [
              "<div style=\"max-width:800px; border: 1px solid var(--colab-border-color);\"><style>\n",
              "      pre.function-repr-contents {\n",
              "        overflow-x: auto;\n",
              "        padding: 8px 12px;\n",
              "        max-height: 500px;\n",
              "      }\n",
              "\n",
              "      pre.function-repr-contents.function-repr-contents-collapsed {\n",
              "        cursor: pointer;\n",
              "        max-height: 100px;\n",
              "      }\n",
              "    </style>\n",
              "    <pre style=\"white-space: initial; background:\n",
              "         var(--colab-secondary-surface-color); padding: 8px 12px;\n",
              "         border-bottom: 1px solid var(--colab-border-color);\"><b>google.colab.drive.mount</b><br/>def mount(mountpoint, force_remount=False, timeout_ms=120000, readonly=False)</pre><pre class=\"function-repr-contents function-repr-contents-collapsed\" style=\"\"><a class=\"filepath\" style=\"display:none\" href=\"#\">/usr/local/lib/python3.10/dist-packages/google/colab/drive.py</a>Mount your Google Drive at the specified mountpoint path.</pre>\n",
              "      <script>\n",
              "      if (google.colab.kernel.accessAllowed && google.colab.files && google.colab.files.view) {\n",
              "        for (const element of document.querySelectorAll('.filepath')) {\n",
              "          element.style.display = 'block'\n",
              "          element.onclick = (event) => {\n",
              "            event.preventDefault();\n",
              "            event.stopPropagation();\n",
              "            google.colab.files.view(element.textContent, 98);\n",
              "          };\n",
              "        }\n",
              "      }\n",
              "      for (const element of document.querySelectorAll('.function-repr-contents')) {\n",
              "        element.onclick = (event) => {\n",
              "          event.preventDefault();\n",
              "          event.stopPropagation();\n",
              "          element.classList.toggle('function-repr-contents-collapsed');\n",
              "        };\n",
              "      }\n",
              "      </script>\n",
              "      </div>"
            ]
          },
          "metadata": {},
          "execution_count": 17
        }
      ]
    },
    {
      "cell_type": "code",
      "source": [
        "from google.colab import drive\n",
        "drive.mount('/content/drive')"
      ],
      "metadata": {
        "id": "atQo-K_Gp5H-"
      },
      "execution_count": null,
      "outputs": []
    },
    {
      "cell_type": "code",
      "source": [
        "#get the file path and uploaded in a dataframe\n",
        "file_path = \"/content/drive/MyDrive/Colab Notebooks/epi_r.csv\"\n",
        "\n",
        "df = pd.read_csv(file_path)\n",
        "\n",
        "#print the head of the dataframe\n",
        "df.head()"
      ],
      "metadata": {
        "colab": {
          "base_uri": "https://localhost:8080/",
          "height": 620
        },
        "id": "kTDMW4p9gJ2c",
        "outputId": "94020cd5-16e4-4c26-8406-a7c891e54a63"
      },
      "execution_count": 18,
      "outputs": [
        {
          "output_type": "execute_result",
          "data": {
            "text/plain": [
              "                                         title  rating  calories  protein  \\\n",
              "0              Lentil, Apple, and Turkey Wrap    2.500     426.0     30.0   \n",
              "1  Boudin Blanc Terrine with Red Onion Confit    4.375     403.0     18.0   \n",
              "2                Potato and Fennel Soup Hodge    3.750     165.0      6.0   \n",
              "3             Mahi-Mahi in Tomato Olive Sauce    5.000       NaN      NaN   \n",
              "4                    Spinach Noodle Casserole    3.125     547.0     20.0   \n",
              "\n",
              "    fat  sodium  #cakeweek  #wasteless  22-minute meals  3-ingredient recipes  \\\n",
              "0   7.0   559.0        0.0         0.0              0.0                   0.0   \n",
              "1  23.0  1439.0        0.0         0.0              0.0                   0.0   \n",
              "2   7.0   165.0        0.0         0.0              0.0                   0.0   \n",
              "3   NaN     NaN        0.0         0.0              0.0                   0.0   \n",
              "4  32.0   452.0        0.0         0.0              0.0                   0.0   \n",
              "\n",
              "   ...  yellow squash  yogurt  yonkers  yuca  zucchini  cookbooks  leftovers  \\\n",
              "0  ...            0.0     0.0      0.0   0.0       0.0        0.0        0.0   \n",
              "1  ...            0.0     0.0      0.0   0.0       0.0        0.0        0.0   \n",
              "2  ...            0.0     0.0      0.0   0.0       0.0        0.0        0.0   \n",
              "3  ...            0.0     0.0      0.0   0.0       0.0        0.0        0.0   \n",
              "4  ...            0.0     0.0      0.0   0.0       0.0        0.0        0.0   \n",
              "\n",
              "   snack  snack week  turkey  \n",
              "0    0.0         0.0     1.0  \n",
              "1    0.0         0.0     0.0  \n",
              "2    0.0         0.0     0.0  \n",
              "3    0.0         0.0     0.0  \n",
              "4    0.0         0.0     0.0  \n",
              "\n",
              "[5 rows x 680 columns]"
            ],
            "text/html": [
              "\n",
              "  <div id=\"df-5d943a7b-6043-4f3b-b276-ed3537bb080f\" class=\"colab-df-container\">\n",
              "    <div>\n",
              "<style scoped>\n",
              "    .dataframe tbody tr th:only-of-type {\n",
              "        vertical-align: middle;\n",
              "    }\n",
              "\n",
              "    .dataframe tbody tr th {\n",
              "        vertical-align: top;\n",
              "    }\n",
              "\n",
              "    .dataframe thead th {\n",
              "        text-align: right;\n",
              "    }\n",
              "</style>\n",
              "<table border=\"1\" class=\"dataframe\">\n",
              "  <thead>\n",
              "    <tr style=\"text-align: right;\">\n",
              "      <th></th>\n",
              "      <th>title</th>\n",
              "      <th>rating</th>\n",
              "      <th>calories</th>\n",
              "      <th>protein</th>\n",
              "      <th>fat</th>\n",
              "      <th>sodium</th>\n",
              "      <th>#cakeweek</th>\n",
              "      <th>#wasteless</th>\n",
              "      <th>22-minute meals</th>\n",
              "      <th>3-ingredient recipes</th>\n",
              "      <th>...</th>\n",
              "      <th>yellow squash</th>\n",
              "      <th>yogurt</th>\n",
              "      <th>yonkers</th>\n",
              "      <th>yuca</th>\n",
              "      <th>zucchini</th>\n",
              "      <th>cookbooks</th>\n",
              "      <th>leftovers</th>\n",
              "      <th>snack</th>\n",
              "      <th>snack week</th>\n",
              "      <th>turkey</th>\n",
              "    </tr>\n",
              "  </thead>\n",
              "  <tbody>\n",
              "    <tr>\n",
              "      <th>0</th>\n",
              "      <td>Lentil, Apple, and Turkey Wrap</td>\n",
              "      <td>2.500</td>\n",
              "      <td>426.0</td>\n",
              "      <td>30.0</td>\n",
              "      <td>7.0</td>\n",
              "      <td>559.0</td>\n",
              "      <td>0.0</td>\n",
              "      <td>0.0</td>\n",
              "      <td>0.0</td>\n",
              "      <td>0.0</td>\n",
              "      <td>...</td>\n",
              "      <td>0.0</td>\n",
              "      <td>0.0</td>\n",
              "      <td>0.0</td>\n",
              "      <td>0.0</td>\n",
              "      <td>0.0</td>\n",
              "      <td>0.0</td>\n",
              "      <td>0.0</td>\n",
              "      <td>0.0</td>\n",
              "      <td>0.0</td>\n",
              "      <td>1.0</td>\n",
              "    </tr>\n",
              "    <tr>\n",
              "      <th>1</th>\n",
              "      <td>Boudin Blanc Terrine with Red Onion Confit</td>\n",
              "      <td>4.375</td>\n",
              "      <td>403.0</td>\n",
              "      <td>18.0</td>\n",
              "      <td>23.0</td>\n",
              "      <td>1439.0</td>\n",
              "      <td>0.0</td>\n",
              "      <td>0.0</td>\n",
              "      <td>0.0</td>\n",
              "      <td>0.0</td>\n",
              "      <td>...</td>\n",
              "      <td>0.0</td>\n",
              "      <td>0.0</td>\n",
              "      <td>0.0</td>\n",
              "      <td>0.0</td>\n",
              "      <td>0.0</td>\n",
              "      <td>0.0</td>\n",
              "      <td>0.0</td>\n",
              "      <td>0.0</td>\n",
              "      <td>0.0</td>\n",
              "      <td>0.0</td>\n",
              "    </tr>\n",
              "    <tr>\n",
              "      <th>2</th>\n",
              "      <td>Potato and Fennel Soup Hodge</td>\n",
              "      <td>3.750</td>\n",
              "      <td>165.0</td>\n",
              "      <td>6.0</td>\n",
              "      <td>7.0</td>\n",
              "      <td>165.0</td>\n",
              "      <td>0.0</td>\n",
              "      <td>0.0</td>\n",
              "      <td>0.0</td>\n",
              "      <td>0.0</td>\n",
              "      <td>...</td>\n",
              "      <td>0.0</td>\n",
              "      <td>0.0</td>\n",
              "      <td>0.0</td>\n",
              "      <td>0.0</td>\n",
              "      <td>0.0</td>\n",
              "      <td>0.0</td>\n",
              "      <td>0.0</td>\n",
              "      <td>0.0</td>\n",
              "      <td>0.0</td>\n",
              "      <td>0.0</td>\n",
              "    </tr>\n",
              "    <tr>\n",
              "      <th>3</th>\n",
              "      <td>Mahi-Mahi in Tomato Olive Sauce</td>\n",
              "      <td>5.000</td>\n",
              "      <td>NaN</td>\n",
              "      <td>NaN</td>\n",
              "      <td>NaN</td>\n",
              "      <td>NaN</td>\n",
              "      <td>0.0</td>\n",
              "      <td>0.0</td>\n",
              "      <td>0.0</td>\n",
              "      <td>0.0</td>\n",
              "      <td>...</td>\n",
              "      <td>0.0</td>\n",
              "      <td>0.0</td>\n",
              "      <td>0.0</td>\n",
              "      <td>0.0</td>\n",
              "      <td>0.0</td>\n",
              "      <td>0.0</td>\n",
              "      <td>0.0</td>\n",
              "      <td>0.0</td>\n",
              "      <td>0.0</td>\n",
              "      <td>0.0</td>\n",
              "    </tr>\n",
              "    <tr>\n",
              "      <th>4</th>\n",
              "      <td>Spinach Noodle Casserole</td>\n",
              "      <td>3.125</td>\n",
              "      <td>547.0</td>\n",
              "      <td>20.0</td>\n",
              "      <td>32.0</td>\n",
              "      <td>452.0</td>\n",
              "      <td>0.0</td>\n",
              "      <td>0.0</td>\n",
              "      <td>0.0</td>\n",
              "      <td>0.0</td>\n",
              "      <td>...</td>\n",
              "      <td>0.0</td>\n",
              "      <td>0.0</td>\n",
              "      <td>0.0</td>\n",
              "      <td>0.0</td>\n",
              "      <td>0.0</td>\n",
              "      <td>0.0</td>\n",
              "      <td>0.0</td>\n",
              "      <td>0.0</td>\n",
              "      <td>0.0</td>\n",
              "      <td>0.0</td>\n",
              "    </tr>\n",
              "  </tbody>\n",
              "</table>\n",
              "<p>5 rows × 680 columns</p>\n",
              "</div>\n",
              "    <div class=\"colab-df-buttons\">\n",
              "\n",
              "  <div class=\"colab-df-container\">\n",
              "    <button class=\"colab-df-convert\" onclick=\"convertToInteractive('df-5d943a7b-6043-4f3b-b276-ed3537bb080f')\"\n",
              "            title=\"Convert this dataframe to an interactive table.\"\n",
              "            style=\"display:none;\">\n",
              "\n",
              "  <svg xmlns=\"http://www.w3.org/2000/svg\" height=\"24px\" viewBox=\"0 -960 960 960\">\n",
              "    <path d=\"M120-120v-720h720v720H120Zm60-500h600v-160H180v160Zm220 220h160v-160H400v160Zm0 220h160v-160H400v160ZM180-400h160v-160H180v160Zm440 0h160v-160H620v160ZM180-180h160v-160H180v160Zm440 0h160v-160H620v160Z\"/>\n",
              "  </svg>\n",
              "    </button>\n",
              "\n",
              "  <style>\n",
              "    .colab-df-container {\n",
              "      display:flex;\n",
              "      gap: 12px;\n",
              "    }\n",
              "\n",
              "    .colab-df-convert {\n",
              "      background-color: #E8F0FE;\n",
              "      border: none;\n",
              "      border-radius: 50%;\n",
              "      cursor: pointer;\n",
              "      display: none;\n",
              "      fill: #1967D2;\n",
              "      height: 32px;\n",
              "      padding: 0 0 0 0;\n",
              "      width: 32px;\n",
              "    }\n",
              "\n",
              "    .colab-df-convert:hover {\n",
              "      background-color: #E2EBFA;\n",
              "      box-shadow: 0px 1px 2px rgba(60, 64, 67, 0.3), 0px 1px 3px 1px rgba(60, 64, 67, 0.15);\n",
              "      fill: #174EA6;\n",
              "    }\n",
              "\n",
              "    .colab-df-buttons div {\n",
              "      margin-bottom: 4px;\n",
              "    }\n",
              "\n",
              "    [theme=dark] .colab-df-convert {\n",
              "      background-color: #3B4455;\n",
              "      fill: #D2E3FC;\n",
              "    }\n",
              "\n",
              "    [theme=dark] .colab-df-convert:hover {\n",
              "      background-color: #434B5C;\n",
              "      box-shadow: 0px 1px 3px 1px rgba(0, 0, 0, 0.15);\n",
              "      filter: drop-shadow(0px 1px 2px rgba(0, 0, 0, 0.3));\n",
              "      fill: #FFFFFF;\n",
              "    }\n",
              "  </style>\n",
              "\n",
              "    <script>\n",
              "      const buttonEl =\n",
              "        document.querySelector('#df-5d943a7b-6043-4f3b-b276-ed3537bb080f button.colab-df-convert');\n",
              "      buttonEl.style.display =\n",
              "        google.colab.kernel.accessAllowed ? 'block' : 'none';\n",
              "\n",
              "      async function convertToInteractive(key) {\n",
              "        const element = document.querySelector('#df-5d943a7b-6043-4f3b-b276-ed3537bb080f');\n",
              "        const dataTable =\n",
              "          await google.colab.kernel.invokeFunction('convertToInteractive',\n",
              "                                                    [key], {});\n",
              "        if (!dataTable) return;\n",
              "\n",
              "        const docLinkHtml = 'Like what you see? Visit the ' +\n",
              "          '<a target=\"_blank\" href=https://colab.research.google.com/notebooks/data_table.ipynb>data table notebook</a>'\n",
              "          + ' to learn more about interactive tables.';\n",
              "        element.innerHTML = '';\n",
              "        dataTable['output_type'] = 'display_data';\n",
              "        await google.colab.output.renderOutput(dataTable, element);\n",
              "        const docLink = document.createElement('div');\n",
              "        docLink.innerHTML = docLinkHtml;\n",
              "        element.appendChild(docLink);\n",
              "      }\n",
              "    </script>\n",
              "  </div>\n",
              "\n",
              "\n",
              "<div id=\"df-faa9e553-2736-4f7a-a079-28f56b5b1ca0\">\n",
              "  <button class=\"colab-df-quickchart\" onclick=\"quickchart('df-faa9e553-2736-4f7a-a079-28f56b5b1ca0')\"\n",
              "            title=\"Suggest charts\"\n",
              "            style=\"display:none;\">\n",
              "\n",
              "<svg xmlns=\"http://www.w3.org/2000/svg\" height=\"24px\"viewBox=\"0 0 24 24\"\n",
              "     width=\"24px\">\n",
              "    <g>\n",
              "        <path d=\"M19 3H5c-1.1 0-2 .9-2 2v14c0 1.1.9 2 2 2h14c1.1 0 2-.9 2-2V5c0-1.1-.9-2-2-2zM9 17H7v-7h2v7zm4 0h-2V7h2v10zm4 0h-2v-4h2v4z\"/>\n",
              "    </g>\n",
              "</svg>\n",
              "  </button>\n",
              "\n",
              "<style>\n",
              "  .colab-df-quickchart {\n",
              "      --bg-color: #E8F0FE;\n",
              "      --fill-color: #1967D2;\n",
              "      --hover-bg-color: #E2EBFA;\n",
              "      --hover-fill-color: #174EA6;\n",
              "      --disabled-fill-color: #AAA;\n",
              "      --disabled-bg-color: #DDD;\n",
              "  }\n",
              "\n",
              "  [theme=dark] .colab-df-quickchart {\n",
              "      --bg-color: #3B4455;\n",
              "      --fill-color: #D2E3FC;\n",
              "      --hover-bg-color: #434B5C;\n",
              "      --hover-fill-color: #FFFFFF;\n",
              "      --disabled-bg-color: #3B4455;\n",
              "      --disabled-fill-color: #666;\n",
              "  }\n",
              "\n",
              "  .colab-df-quickchart {\n",
              "    background-color: var(--bg-color);\n",
              "    border: none;\n",
              "    border-radius: 50%;\n",
              "    cursor: pointer;\n",
              "    display: none;\n",
              "    fill: var(--fill-color);\n",
              "    height: 32px;\n",
              "    padding: 0;\n",
              "    width: 32px;\n",
              "  }\n",
              "\n",
              "  .colab-df-quickchart:hover {\n",
              "    background-color: var(--hover-bg-color);\n",
              "    box-shadow: 0 1px 2px rgba(60, 64, 67, 0.3), 0 1px 3px 1px rgba(60, 64, 67, 0.15);\n",
              "    fill: var(--button-hover-fill-color);\n",
              "  }\n",
              "\n",
              "  .colab-df-quickchart-complete:disabled,\n",
              "  .colab-df-quickchart-complete:disabled:hover {\n",
              "    background-color: var(--disabled-bg-color);\n",
              "    fill: var(--disabled-fill-color);\n",
              "    box-shadow: none;\n",
              "  }\n",
              "\n",
              "  .colab-df-spinner {\n",
              "    border: 2px solid var(--fill-color);\n",
              "    border-color: transparent;\n",
              "    border-bottom-color: var(--fill-color);\n",
              "    animation:\n",
              "      spin 1s steps(1) infinite;\n",
              "  }\n",
              "\n",
              "  @keyframes spin {\n",
              "    0% {\n",
              "      border-color: transparent;\n",
              "      border-bottom-color: var(--fill-color);\n",
              "      border-left-color: var(--fill-color);\n",
              "    }\n",
              "    20% {\n",
              "      border-color: transparent;\n",
              "      border-left-color: var(--fill-color);\n",
              "      border-top-color: var(--fill-color);\n",
              "    }\n",
              "    30% {\n",
              "      border-color: transparent;\n",
              "      border-left-color: var(--fill-color);\n",
              "      border-top-color: var(--fill-color);\n",
              "      border-right-color: var(--fill-color);\n",
              "    }\n",
              "    40% {\n",
              "      border-color: transparent;\n",
              "      border-right-color: var(--fill-color);\n",
              "      border-top-color: var(--fill-color);\n",
              "    }\n",
              "    60% {\n",
              "      border-color: transparent;\n",
              "      border-right-color: var(--fill-color);\n",
              "    }\n",
              "    80% {\n",
              "      border-color: transparent;\n",
              "      border-right-color: var(--fill-color);\n",
              "      border-bottom-color: var(--fill-color);\n",
              "    }\n",
              "    90% {\n",
              "      border-color: transparent;\n",
              "      border-bottom-color: var(--fill-color);\n",
              "    }\n",
              "  }\n",
              "</style>\n",
              "\n",
              "  <script>\n",
              "    async function quickchart(key) {\n",
              "      const quickchartButtonEl =\n",
              "        document.querySelector('#' + key + ' button');\n",
              "      quickchartButtonEl.disabled = true;  // To prevent multiple clicks.\n",
              "      quickchartButtonEl.classList.add('colab-df-spinner');\n",
              "      try {\n",
              "        const charts = await google.colab.kernel.invokeFunction(\n",
              "            'suggestCharts', [key], {});\n",
              "      } catch (error) {\n",
              "        console.error('Error during call to suggestCharts:', error);\n",
              "      }\n",
              "      quickchartButtonEl.classList.remove('colab-df-spinner');\n",
              "      quickchartButtonEl.classList.add('colab-df-quickchart-complete');\n",
              "    }\n",
              "    (() => {\n",
              "      let quickchartButtonEl =\n",
              "        document.querySelector('#df-faa9e553-2736-4f7a-a079-28f56b5b1ca0 button');\n",
              "      quickchartButtonEl.style.display =\n",
              "        google.colab.kernel.accessAllowed ? 'block' : 'none';\n",
              "    })();\n",
              "  </script>\n",
              "</div>\n",
              "\n",
              "    </div>\n",
              "  </div>\n"
            ],
            "application/vnd.google.colaboratory.intrinsic+json": {
              "type": "dataframe",
              "variable_name": "df"
            }
          },
          "metadata": {},
          "execution_count": 18
        }
      ]
    },
    {
      "cell_type": "code",
      "source": [
        "#Data cleaning\n",
        "#doiung pleliminary analysis on the dataset\n",
        "df.info()"
      ],
      "metadata": {
        "colab": {
          "base_uri": "https://localhost:8080/"
        },
        "id": "I8yA97msgJzd",
        "outputId": "ea980f0e-45e0-4629-ba8a-df9279882bbc"
      },
      "execution_count": 19,
      "outputs": [
        {
          "output_type": "stream",
          "name": "stdout",
          "text": [
            "<class 'pandas.core.frame.DataFrame'>\n",
            "RangeIndex: 20052 entries, 0 to 20051\n",
            "Columns: 680 entries, title to turkey\n",
            "dtypes: float64(679), object(1)\n",
            "memory usage: 104.0+ MB\n"
          ]
        }
      ]
    },
    {
      "cell_type": "code",
      "source": [
        "df.describe()  #it give statistical values of all the columns"
      ],
      "metadata": {
        "colab": {
          "base_uri": "https://localhost:8080/",
          "height": 384
        },
        "id": "A9H_tcl1gJwR",
        "outputId": "6ee00555-a95d-4842-ccdb-e8ea956af112"
      },
      "execution_count": 20,
      "outputs": [
        {
          "output_type": "execute_result",
          "data": {
            "text/plain": [
              "             rating      calories        protein           fat        sodium  \\\n",
              "count  20052.000000  1.593500e+04   15890.000000  1.586900e+04  1.593300e+04   \n",
              "mean       3.714467  6.322958e+03     100.160793  3.468775e+02  6.225975e+03   \n",
              "std        1.340829  3.590460e+05    3840.318527  2.045611e+04  3.333182e+05   \n",
              "min        0.000000  0.000000e+00       0.000000  0.000000e+00  0.000000e+00   \n",
              "25%        3.750000  1.980000e+02       3.000000  7.000000e+00  8.000000e+01   \n",
              "50%        4.375000  3.310000e+02       8.000000  1.700000e+01  2.940000e+02   \n",
              "75%        4.375000  5.860000e+02      27.000000  3.300000e+01  7.110000e+02   \n",
              "max        5.000000  3.011122e+07  236489.000000  1.722763e+06  2.767511e+07   \n",
              "\n",
              "          #cakeweek    #wasteless  22-minute meals  3-ingredient recipes  \\\n",
              "count  20052.000000  20052.000000     20052.000000          20052.000000   \n",
              "mean       0.000299      0.000050         0.000848              0.001346   \n",
              "std        0.017296      0.007062         0.029105              0.036671   \n",
              "min        0.000000      0.000000         0.000000              0.000000   \n",
              "25%        0.000000      0.000000         0.000000              0.000000   \n",
              "50%        0.000000      0.000000         0.000000              0.000000   \n",
              "75%        0.000000      0.000000         0.000000              0.000000   \n",
              "max        1.000000      1.000000         1.000000              1.000000   \n",
              "\n",
              "       30 days of groceries  ...  yellow squash        yogurt       yonkers  \\\n",
              "count          20052.000000  ...   20052.000000  20052.000000  20052.000000   \n",
              "mean               0.000349  ...       0.001247      0.026332      0.000050   \n",
              "std                0.018681  ...       0.035288      0.160123      0.007062   \n",
              "min                0.000000  ...       0.000000      0.000000      0.000000   \n",
              "25%                0.000000  ...       0.000000      0.000000      0.000000   \n",
              "50%                0.000000  ...       0.000000      0.000000      0.000000   \n",
              "75%                0.000000  ...       0.000000      0.000000      0.000000   \n",
              "max                1.000000  ...       1.000000      1.000000      1.000000   \n",
              "\n",
              "               yuca      zucchini     cookbooks     leftovers         snack  \\\n",
              "count  20052.000000  20052.000000  20052.000000  20052.000000  20052.000000   \n",
              "mean       0.000299      0.014861      0.000150      0.000349      0.001396   \n",
              "std        0.017296      0.121001      0.012231      0.018681      0.037343   \n",
              "min        0.000000      0.000000      0.000000      0.000000      0.000000   \n",
              "25%        0.000000      0.000000      0.000000      0.000000      0.000000   \n",
              "50%        0.000000      0.000000      0.000000      0.000000      0.000000   \n",
              "75%        0.000000      0.000000      0.000000      0.000000      0.000000   \n",
              "max        1.000000      1.000000      1.000000      1.000000      1.000000   \n",
              "\n",
              "         snack week        turkey  \n",
              "count  20052.000000  20052.000000  \n",
              "mean       0.000948      0.022741  \n",
              "std        0.030768      0.149080  \n",
              "min        0.000000      0.000000  \n",
              "25%        0.000000      0.000000  \n",
              "50%        0.000000      0.000000  \n",
              "75%        0.000000      0.000000  \n",
              "max        1.000000      1.000000  \n",
              "\n",
              "[8 rows x 679 columns]"
            ],
            "text/html": [
              "\n",
              "  <div id=\"df-cb9ec1d4-4b4f-46d6-ad25-10fdca7d8ba1\" class=\"colab-df-container\">\n",
              "    <div>\n",
              "<style scoped>\n",
              "    .dataframe tbody tr th:only-of-type {\n",
              "        vertical-align: middle;\n",
              "    }\n",
              "\n",
              "    .dataframe tbody tr th {\n",
              "        vertical-align: top;\n",
              "    }\n",
              "\n",
              "    .dataframe thead th {\n",
              "        text-align: right;\n",
              "    }\n",
              "</style>\n",
              "<table border=\"1\" class=\"dataframe\">\n",
              "  <thead>\n",
              "    <tr style=\"text-align: right;\">\n",
              "      <th></th>\n",
              "      <th>rating</th>\n",
              "      <th>calories</th>\n",
              "      <th>protein</th>\n",
              "      <th>fat</th>\n",
              "      <th>sodium</th>\n",
              "      <th>#cakeweek</th>\n",
              "      <th>#wasteless</th>\n",
              "      <th>22-minute meals</th>\n",
              "      <th>3-ingredient recipes</th>\n",
              "      <th>30 days of groceries</th>\n",
              "      <th>...</th>\n",
              "      <th>yellow squash</th>\n",
              "      <th>yogurt</th>\n",
              "      <th>yonkers</th>\n",
              "      <th>yuca</th>\n",
              "      <th>zucchini</th>\n",
              "      <th>cookbooks</th>\n",
              "      <th>leftovers</th>\n",
              "      <th>snack</th>\n",
              "      <th>snack week</th>\n",
              "      <th>turkey</th>\n",
              "    </tr>\n",
              "  </thead>\n",
              "  <tbody>\n",
              "    <tr>\n",
              "      <th>count</th>\n",
              "      <td>20052.000000</td>\n",
              "      <td>1.593500e+04</td>\n",
              "      <td>15890.000000</td>\n",
              "      <td>1.586900e+04</td>\n",
              "      <td>1.593300e+04</td>\n",
              "      <td>20052.000000</td>\n",
              "      <td>20052.000000</td>\n",
              "      <td>20052.000000</td>\n",
              "      <td>20052.000000</td>\n",
              "      <td>20052.000000</td>\n",
              "      <td>...</td>\n",
              "      <td>20052.000000</td>\n",
              "      <td>20052.000000</td>\n",
              "      <td>20052.000000</td>\n",
              "      <td>20052.000000</td>\n",
              "      <td>20052.000000</td>\n",
              "      <td>20052.000000</td>\n",
              "      <td>20052.000000</td>\n",
              "      <td>20052.000000</td>\n",
              "      <td>20052.000000</td>\n",
              "      <td>20052.000000</td>\n",
              "    </tr>\n",
              "    <tr>\n",
              "      <th>mean</th>\n",
              "      <td>3.714467</td>\n",
              "      <td>6.322958e+03</td>\n",
              "      <td>100.160793</td>\n",
              "      <td>3.468775e+02</td>\n",
              "      <td>6.225975e+03</td>\n",
              "      <td>0.000299</td>\n",
              "      <td>0.000050</td>\n",
              "      <td>0.000848</td>\n",
              "      <td>0.001346</td>\n",
              "      <td>0.000349</td>\n",
              "      <td>...</td>\n",
              "      <td>0.001247</td>\n",
              "      <td>0.026332</td>\n",
              "      <td>0.000050</td>\n",
              "      <td>0.000299</td>\n",
              "      <td>0.014861</td>\n",
              "      <td>0.000150</td>\n",
              "      <td>0.000349</td>\n",
              "      <td>0.001396</td>\n",
              "      <td>0.000948</td>\n",
              "      <td>0.022741</td>\n",
              "    </tr>\n",
              "    <tr>\n",
              "      <th>std</th>\n",
              "      <td>1.340829</td>\n",
              "      <td>3.590460e+05</td>\n",
              "      <td>3840.318527</td>\n",
              "      <td>2.045611e+04</td>\n",
              "      <td>3.333182e+05</td>\n",
              "      <td>0.017296</td>\n",
              "      <td>0.007062</td>\n",
              "      <td>0.029105</td>\n",
              "      <td>0.036671</td>\n",
              "      <td>0.018681</td>\n",
              "      <td>...</td>\n",
              "      <td>0.035288</td>\n",
              "      <td>0.160123</td>\n",
              "      <td>0.007062</td>\n",
              "      <td>0.017296</td>\n",
              "      <td>0.121001</td>\n",
              "      <td>0.012231</td>\n",
              "      <td>0.018681</td>\n",
              "      <td>0.037343</td>\n",
              "      <td>0.030768</td>\n",
              "      <td>0.149080</td>\n",
              "    </tr>\n",
              "    <tr>\n",
              "      <th>min</th>\n",
              "      <td>0.000000</td>\n",
              "      <td>0.000000e+00</td>\n",
              "      <td>0.000000</td>\n",
              "      <td>0.000000e+00</td>\n",
              "      <td>0.000000e+00</td>\n",
              "      <td>0.000000</td>\n",
              "      <td>0.000000</td>\n",
              "      <td>0.000000</td>\n",
              "      <td>0.000000</td>\n",
              "      <td>0.000000</td>\n",
              "      <td>...</td>\n",
              "      <td>0.000000</td>\n",
              "      <td>0.000000</td>\n",
              "      <td>0.000000</td>\n",
              "      <td>0.000000</td>\n",
              "      <td>0.000000</td>\n",
              "      <td>0.000000</td>\n",
              "      <td>0.000000</td>\n",
              "      <td>0.000000</td>\n",
              "      <td>0.000000</td>\n",
              "      <td>0.000000</td>\n",
              "    </tr>\n",
              "    <tr>\n",
              "      <th>25%</th>\n",
              "      <td>3.750000</td>\n",
              "      <td>1.980000e+02</td>\n",
              "      <td>3.000000</td>\n",
              "      <td>7.000000e+00</td>\n",
              "      <td>8.000000e+01</td>\n",
              "      <td>0.000000</td>\n",
              "      <td>0.000000</td>\n",
              "      <td>0.000000</td>\n",
              "      <td>0.000000</td>\n",
              "      <td>0.000000</td>\n",
              "      <td>...</td>\n",
              "      <td>0.000000</td>\n",
              "      <td>0.000000</td>\n",
              "      <td>0.000000</td>\n",
              "      <td>0.000000</td>\n",
              "      <td>0.000000</td>\n",
              "      <td>0.000000</td>\n",
              "      <td>0.000000</td>\n",
              "      <td>0.000000</td>\n",
              "      <td>0.000000</td>\n",
              "      <td>0.000000</td>\n",
              "    </tr>\n",
              "    <tr>\n",
              "      <th>50%</th>\n",
              "      <td>4.375000</td>\n",
              "      <td>3.310000e+02</td>\n",
              "      <td>8.000000</td>\n",
              "      <td>1.700000e+01</td>\n",
              "      <td>2.940000e+02</td>\n",
              "      <td>0.000000</td>\n",
              "      <td>0.000000</td>\n",
              "      <td>0.000000</td>\n",
              "      <td>0.000000</td>\n",
              "      <td>0.000000</td>\n",
              "      <td>...</td>\n",
              "      <td>0.000000</td>\n",
              "      <td>0.000000</td>\n",
              "      <td>0.000000</td>\n",
              "      <td>0.000000</td>\n",
              "      <td>0.000000</td>\n",
              "      <td>0.000000</td>\n",
              "      <td>0.000000</td>\n",
              "      <td>0.000000</td>\n",
              "      <td>0.000000</td>\n",
              "      <td>0.000000</td>\n",
              "    </tr>\n",
              "    <tr>\n",
              "      <th>75%</th>\n",
              "      <td>4.375000</td>\n",
              "      <td>5.860000e+02</td>\n",
              "      <td>27.000000</td>\n",
              "      <td>3.300000e+01</td>\n",
              "      <td>7.110000e+02</td>\n",
              "      <td>0.000000</td>\n",
              "      <td>0.000000</td>\n",
              "      <td>0.000000</td>\n",
              "      <td>0.000000</td>\n",
              "      <td>0.000000</td>\n",
              "      <td>...</td>\n",
              "      <td>0.000000</td>\n",
              "      <td>0.000000</td>\n",
              "      <td>0.000000</td>\n",
              "      <td>0.000000</td>\n",
              "      <td>0.000000</td>\n",
              "      <td>0.000000</td>\n",
              "      <td>0.000000</td>\n",
              "      <td>0.000000</td>\n",
              "      <td>0.000000</td>\n",
              "      <td>0.000000</td>\n",
              "    </tr>\n",
              "    <tr>\n",
              "      <th>max</th>\n",
              "      <td>5.000000</td>\n",
              "      <td>3.011122e+07</td>\n",
              "      <td>236489.000000</td>\n",
              "      <td>1.722763e+06</td>\n",
              "      <td>2.767511e+07</td>\n",
              "      <td>1.000000</td>\n",
              "      <td>1.000000</td>\n",
              "      <td>1.000000</td>\n",
              "      <td>1.000000</td>\n",
              "      <td>1.000000</td>\n",
              "      <td>...</td>\n",
              "      <td>1.000000</td>\n",
              "      <td>1.000000</td>\n",
              "      <td>1.000000</td>\n",
              "      <td>1.000000</td>\n",
              "      <td>1.000000</td>\n",
              "      <td>1.000000</td>\n",
              "      <td>1.000000</td>\n",
              "      <td>1.000000</td>\n",
              "      <td>1.000000</td>\n",
              "      <td>1.000000</td>\n",
              "    </tr>\n",
              "  </tbody>\n",
              "</table>\n",
              "<p>8 rows × 679 columns</p>\n",
              "</div>\n",
              "    <div class=\"colab-df-buttons\">\n",
              "\n",
              "  <div class=\"colab-df-container\">\n",
              "    <button class=\"colab-df-convert\" onclick=\"convertToInteractive('df-cb9ec1d4-4b4f-46d6-ad25-10fdca7d8ba1')\"\n",
              "            title=\"Convert this dataframe to an interactive table.\"\n",
              "            style=\"display:none;\">\n",
              "\n",
              "  <svg xmlns=\"http://www.w3.org/2000/svg\" height=\"24px\" viewBox=\"0 -960 960 960\">\n",
              "    <path d=\"M120-120v-720h720v720H120Zm60-500h600v-160H180v160Zm220 220h160v-160H400v160Zm0 220h160v-160H400v160ZM180-400h160v-160H180v160Zm440 0h160v-160H620v160ZM180-180h160v-160H180v160Zm440 0h160v-160H620v160Z\"/>\n",
              "  </svg>\n",
              "    </button>\n",
              "\n",
              "  <style>\n",
              "    .colab-df-container {\n",
              "      display:flex;\n",
              "      gap: 12px;\n",
              "    }\n",
              "\n",
              "    .colab-df-convert {\n",
              "      background-color: #E8F0FE;\n",
              "      border: none;\n",
              "      border-radius: 50%;\n",
              "      cursor: pointer;\n",
              "      display: none;\n",
              "      fill: #1967D2;\n",
              "      height: 32px;\n",
              "      padding: 0 0 0 0;\n",
              "      width: 32px;\n",
              "    }\n",
              "\n",
              "    .colab-df-convert:hover {\n",
              "      background-color: #E2EBFA;\n",
              "      box-shadow: 0px 1px 2px rgba(60, 64, 67, 0.3), 0px 1px 3px 1px rgba(60, 64, 67, 0.15);\n",
              "      fill: #174EA6;\n",
              "    }\n",
              "\n",
              "    .colab-df-buttons div {\n",
              "      margin-bottom: 4px;\n",
              "    }\n",
              "\n",
              "    [theme=dark] .colab-df-convert {\n",
              "      background-color: #3B4455;\n",
              "      fill: #D2E3FC;\n",
              "    }\n",
              "\n",
              "    [theme=dark] .colab-df-convert:hover {\n",
              "      background-color: #434B5C;\n",
              "      box-shadow: 0px 1px 3px 1px rgba(0, 0, 0, 0.15);\n",
              "      filter: drop-shadow(0px 1px 2px rgba(0, 0, 0, 0.3));\n",
              "      fill: #FFFFFF;\n",
              "    }\n",
              "  </style>\n",
              "\n",
              "    <script>\n",
              "      const buttonEl =\n",
              "        document.querySelector('#df-cb9ec1d4-4b4f-46d6-ad25-10fdca7d8ba1 button.colab-df-convert');\n",
              "      buttonEl.style.display =\n",
              "        google.colab.kernel.accessAllowed ? 'block' : 'none';\n",
              "\n",
              "      async function convertToInteractive(key) {\n",
              "        const element = document.querySelector('#df-cb9ec1d4-4b4f-46d6-ad25-10fdca7d8ba1');\n",
              "        const dataTable =\n",
              "          await google.colab.kernel.invokeFunction('convertToInteractive',\n",
              "                                                    [key], {});\n",
              "        if (!dataTable) return;\n",
              "\n",
              "        const docLinkHtml = 'Like what you see? Visit the ' +\n",
              "          '<a target=\"_blank\" href=https://colab.research.google.com/notebooks/data_table.ipynb>data table notebook</a>'\n",
              "          + ' to learn more about interactive tables.';\n",
              "        element.innerHTML = '';\n",
              "        dataTable['output_type'] = 'display_data';\n",
              "        await google.colab.output.renderOutput(dataTable, element);\n",
              "        const docLink = document.createElement('div');\n",
              "        docLink.innerHTML = docLinkHtml;\n",
              "        element.appendChild(docLink);\n",
              "      }\n",
              "    </script>\n",
              "  </div>\n",
              "\n",
              "\n",
              "<div id=\"df-6f4f5853-35f8-414f-9ee7-5b7d76085e16\">\n",
              "  <button class=\"colab-df-quickchart\" onclick=\"quickchart('df-6f4f5853-35f8-414f-9ee7-5b7d76085e16')\"\n",
              "            title=\"Suggest charts\"\n",
              "            style=\"display:none;\">\n",
              "\n",
              "<svg xmlns=\"http://www.w3.org/2000/svg\" height=\"24px\"viewBox=\"0 0 24 24\"\n",
              "     width=\"24px\">\n",
              "    <g>\n",
              "        <path d=\"M19 3H5c-1.1 0-2 .9-2 2v14c0 1.1.9 2 2 2h14c1.1 0 2-.9 2-2V5c0-1.1-.9-2-2-2zM9 17H7v-7h2v7zm4 0h-2V7h2v10zm4 0h-2v-4h2v4z\"/>\n",
              "    </g>\n",
              "</svg>\n",
              "  </button>\n",
              "\n",
              "<style>\n",
              "  .colab-df-quickchart {\n",
              "      --bg-color: #E8F0FE;\n",
              "      --fill-color: #1967D2;\n",
              "      --hover-bg-color: #E2EBFA;\n",
              "      --hover-fill-color: #174EA6;\n",
              "      --disabled-fill-color: #AAA;\n",
              "      --disabled-bg-color: #DDD;\n",
              "  }\n",
              "\n",
              "  [theme=dark] .colab-df-quickchart {\n",
              "      --bg-color: #3B4455;\n",
              "      --fill-color: #D2E3FC;\n",
              "      --hover-bg-color: #434B5C;\n",
              "      --hover-fill-color: #FFFFFF;\n",
              "      --disabled-bg-color: #3B4455;\n",
              "      --disabled-fill-color: #666;\n",
              "  }\n",
              "\n",
              "  .colab-df-quickchart {\n",
              "    background-color: var(--bg-color);\n",
              "    border: none;\n",
              "    border-radius: 50%;\n",
              "    cursor: pointer;\n",
              "    display: none;\n",
              "    fill: var(--fill-color);\n",
              "    height: 32px;\n",
              "    padding: 0;\n",
              "    width: 32px;\n",
              "  }\n",
              "\n",
              "  .colab-df-quickchart:hover {\n",
              "    background-color: var(--hover-bg-color);\n",
              "    box-shadow: 0 1px 2px rgba(60, 64, 67, 0.3), 0 1px 3px 1px rgba(60, 64, 67, 0.15);\n",
              "    fill: var(--button-hover-fill-color);\n",
              "  }\n",
              "\n",
              "  .colab-df-quickchart-complete:disabled,\n",
              "  .colab-df-quickchart-complete:disabled:hover {\n",
              "    background-color: var(--disabled-bg-color);\n",
              "    fill: var(--disabled-fill-color);\n",
              "    box-shadow: none;\n",
              "  }\n",
              "\n",
              "  .colab-df-spinner {\n",
              "    border: 2px solid var(--fill-color);\n",
              "    border-color: transparent;\n",
              "    border-bottom-color: var(--fill-color);\n",
              "    animation:\n",
              "      spin 1s steps(1) infinite;\n",
              "  }\n",
              "\n",
              "  @keyframes spin {\n",
              "    0% {\n",
              "      border-color: transparent;\n",
              "      border-bottom-color: var(--fill-color);\n",
              "      border-left-color: var(--fill-color);\n",
              "    }\n",
              "    20% {\n",
              "      border-color: transparent;\n",
              "      border-left-color: var(--fill-color);\n",
              "      border-top-color: var(--fill-color);\n",
              "    }\n",
              "    30% {\n",
              "      border-color: transparent;\n",
              "      border-left-color: var(--fill-color);\n",
              "      border-top-color: var(--fill-color);\n",
              "      border-right-color: var(--fill-color);\n",
              "    }\n",
              "    40% {\n",
              "      border-color: transparent;\n",
              "      border-right-color: var(--fill-color);\n",
              "      border-top-color: var(--fill-color);\n",
              "    }\n",
              "    60% {\n",
              "      border-color: transparent;\n",
              "      border-right-color: var(--fill-color);\n",
              "    }\n",
              "    80% {\n",
              "      border-color: transparent;\n",
              "      border-right-color: var(--fill-color);\n",
              "      border-bottom-color: var(--fill-color);\n",
              "    }\n",
              "    90% {\n",
              "      border-color: transparent;\n",
              "      border-bottom-color: var(--fill-color);\n",
              "    }\n",
              "  }\n",
              "</style>\n",
              "\n",
              "  <script>\n",
              "    async function quickchart(key) {\n",
              "      const quickchartButtonEl =\n",
              "        document.querySelector('#' + key + ' button');\n",
              "      quickchartButtonEl.disabled = true;  // To prevent multiple clicks.\n",
              "      quickchartButtonEl.classList.add('colab-df-spinner');\n",
              "      try {\n",
              "        const charts = await google.colab.kernel.invokeFunction(\n",
              "            'suggestCharts', [key], {});\n",
              "      } catch (error) {\n",
              "        console.error('Error during call to suggestCharts:', error);\n",
              "      }\n",
              "      quickchartButtonEl.classList.remove('colab-df-spinner');\n",
              "      quickchartButtonEl.classList.add('colab-df-quickchart-complete');\n",
              "    }\n",
              "    (() => {\n",
              "      let quickchartButtonEl =\n",
              "        document.querySelector('#df-6f4f5853-35f8-414f-9ee7-5b7d76085e16 button');\n",
              "      quickchartButtonEl.style.display =\n",
              "        google.colab.kernel.accessAllowed ? 'block' : 'none';\n",
              "    })();\n",
              "  </script>\n",
              "</div>\n",
              "\n",
              "    </div>\n",
              "  </div>\n"
            ],
            "application/vnd.google.colaboratory.intrinsic+json": {
              "type": "dataframe"
            }
          },
          "metadata": {},
          "execution_count": 20
        }
      ]
    },
    {
      "cell_type": "code",
      "source": [
        "df.dtypes #Gives all the data types in each columns"
      ],
      "metadata": {
        "colab": {
          "base_uri": "https://localhost:8080/",
          "height": 458
        },
        "id": "VpBXDynsgJtK",
        "outputId": "af8276cb-bcb4-449f-ca44-0a1e53293cec"
      },
      "execution_count": 21,
      "outputs": [
        {
          "output_type": "execute_result",
          "data": {
            "text/plain": [
              "title          object\n",
              "rating        float64\n",
              "calories      float64\n",
              "protein       float64\n",
              "fat           float64\n",
              "               ...   \n",
              "cookbooks     float64\n",
              "leftovers     float64\n",
              "snack         float64\n",
              "snack week    float64\n",
              "turkey        float64\n",
              "Length: 680, dtype: object"
            ],
            "text/html": [
              "<div>\n",
              "<style scoped>\n",
              "    .dataframe tbody tr th:only-of-type {\n",
              "        vertical-align: middle;\n",
              "    }\n",
              "\n",
              "    .dataframe tbody tr th {\n",
              "        vertical-align: top;\n",
              "    }\n",
              "\n",
              "    .dataframe thead th {\n",
              "        text-align: right;\n",
              "    }\n",
              "</style>\n",
              "<table border=\"1\" class=\"dataframe\">\n",
              "  <thead>\n",
              "    <tr style=\"text-align: right;\">\n",
              "      <th></th>\n",
              "      <th>0</th>\n",
              "    </tr>\n",
              "  </thead>\n",
              "  <tbody>\n",
              "    <tr>\n",
              "      <th>title</th>\n",
              "      <td>object</td>\n",
              "    </tr>\n",
              "    <tr>\n",
              "      <th>rating</th>\n",
              "      <td>float64</td>\n",
              "    </tr>\n",
              "    <tr>\n",
              "      <th>calories</th>\n",
              "      <td>float64</td>\n",
              "    </tr>\n",
              "    <tr>\n",
              "      <th>protein</th>\n",
              "      <td>float64</td>\n",
              "    </tr>\n",
              "    <tr>\n",
              "      <th>fat</th>\n",
              "      <td>float64</td>\n",
              "    </tr>\n",
              "    <tr>\n",
              "      <th>...</th>\n",
              "      <td>...</td>\n",
              "    </tr>\n",
              "    <tr>\n",
              "      <th>cookbooks</th>\n",
              "      <td>float64</td>\n",
              "    </tr>\n",
              "    <tr>\n",
              "      <th>leftovers</th>\n",
              "      <td>float64</td>\n",
              "    </tr>\n",
              "    <tr>\n",
              "      <th>snack</th>\n",
              "      <td>float64</td>\n",
              "    </tr>\n",
              "    <tr>\n",
              "      <th>snack week</th>\n",
              "      <td>float64</td>\n",
              "    </tr>\n",
              "    <tr>\n",
              "      <th>turkey</th>\n",
              "      <td>float64</td>\n",
              "    </tr>\n",
              "  </tbody>\n",
              "</table>\n",
              "<p>680 rows × 1 columns</p>\n",
              "</div><br><label><b>dtype:</b> object</label>"
            ]
          },
          "metadata": {},
          "execution_count": 21
        }
      ]
    },
    {
      "cell_type": "code",
      "source": [
        "#missing values analysis\n",
        "missing_values = df.isnull().sum()\n",
        "print(missing_values)"
      ],
      "metadata": {
        "colab": {
          "base_uri": "https://localhost:8080/"
        },
        "id": "NeZcpMp8gJiE",
        "outputId": "2e39853d-0193-41e7-a495-2d2a2cc3d377"
      },
      "execution_count": 22,
      "outputs": [
        {
          "output_type": "stream",
          "name": "stdout",
          "text": [
            "title            0\n",
            "rating           0\n",
            "calories      4117\n",
            "protein       4162\n",
            "fat           4183\n",
            "              ... \n",
            "cookbooks        0\n",
            "leftovers        0\n",
            "snack            0\n",
            "snack week       0\n",
            "turkey           0\n",
            "Length: 680, dtype: int64\n"
          ]
        }
      ]
    },
    {
      "cell_type": "code",
      "source": [
        "missing_percentage = (df.isnull().sum() / len(df)) * 100\n",
        "print(missing_percentage)"
      ],
      "metadata": {
        "colab": {
          "base_uri": "https://localhost:8080/"
        },
        "id": "3nJR-7utgJQD",
        "outputId": "fd0908b7-8953-4bb3-cc76-7a242c9ed011"
      },
      "execution_count": 23,
      "outputs": [
        {
          "output_type": "stream",
          "name": "stdout",
          "text": [
            "title          0.000000\n",
            "rating         0.000000\n",
            "calories      20.531618\n",
            "protein       20.756034\n",
            "fat           20.860762\n",
            "                ...    \n",
            "cookbooks      0.000000\n",
            "leftovers      0.000000\n",
            "snack          0.000000\n",
            "snack week     0.000000\n",
            "turkey         0.000000\n",
            "Length: 680, dtype: float64\n"
          ]
        }
      ]
    },
    {
      "cell_type": "code",
      "source": [
        "#create a summary dataframe for easier visualisation\n",
        "missing_summary = pd.DataFrame({'Missing Values': missing_values, 'Missing Percentage': missing_percentage})\n",
        "print(missing_summary)"
      ],
      "metadata": {
        "colab": {
          "base_uri": "https://localhost:8080/"
        },
        "id": "-gaQt_Kwr5b6",
        "outputId": "0e8ba119-9248-4a39-af23-202ea48a85ba"
      },
      "execution_count": 24,
      "outputs": [
        {
          "output_type": "stream",
          "name": "stdout",
          "text": [
            "            Missing Values  Missing Percentage\n",
            "title                    0            0.000000\n",
            "rating                   0            0.000000\n",
            "calories              4117           20.531618\n",
            "protein               4162           20.756034\n",
            "fat                   4183           20.860762\n",
            "...                    ...                 ...\n",
            "cookbooks                0            0.000000\n",
            "leftovers                0            0.000000\n",
            "snack                    0            0.000000\n",
            "snack week               0            0.000000\n",
            "turkey                   0            0.000000\n",
            "\n",
            "[680 rows x 2 columns]\n"
          ]
        }
      ]
    },
    {
      "cell_type": "code",
      "source": [
        "#based on the summary drop the rows with NaN values\n",
        "df = df.dropna()"
      ],
      "metadata": {
        "id": "jysylMeYr5YU"
      },
      "execution_count": 25,
      "outputs": []
    },
    {
      "cell_type": "code",
      "source": [
        "#checking the updated version\n",
        "df.info()"
      ],
      "metadata": {
        "colab": {
          "base_uri": "https://localhost:8080/"
        },
        "id": "BD-U9yg2r5Vy",
        "outputId": "32777d15-3e97-4e7c-b089-5b930a3b60a4"
      },
      "execution_count": 28,
      "outputs": [
        {
          "output_type": "stream",
          "name": "stdout",
          "text": [
            "<class 'pandas.core.frame.DataFrame'>\n",
            "Index: 15864 entries, 0 to 20051\n",
            "Columns: 680 entries, title to turkey\n",
            "dtypes: float64(679), object(1)\n",
            "memory usage: 82.4+ MB\n"
          ]
        }
      ]
    },
    {
      "cell_type": "code",
      "source": [
        "#check for duplicated rows\n",
        "duplicate_rows = df[df.duplicated()]\n",
        "print(duplicate_rows)\n",
        "#here i am not removing duplicates because the unique recipies may contain same ingredients"
      ],
      "metadata": {
        "colab": {
          "base_uri": "https://localhost:8080/"
        },
        "id": "2xWoPl4zr5TD",
        "outputId": "c78d7426-f13e-452a-c1e0-16be9bdb387d"
      },
      "execution_count": 29,
      "outputs": [
        {
          "output_type": "stream",
          "name": "stdout",
          "text": [
            "                                                   title  rating  calories  \\\n",
            "521                                  Spiced Pita Toasts    3.750      21.0   \n",
            "601                               Orange Balsamic Glaze    3.750     194.0   \n",
            "717                              Garlic Baguette Crumbs    0.000      95.0   \n",
            "805                            Golden Pineapple Chutney    4.375     262.0   \n",
            "834                                   Lemon Vinaigrette    3.750     614.0   \n",
            "...                                                  ...     ...       ...   \n",
            "20027  Grilled Fillet of Beef with Tomato Ginger Vina...   4.375     738.0   \n",
            "20032                                 4-3-2-1 Spice Rub    4.375      16.0   \n",
            "20039                                 Cauliflower Purée    3.125     364.0   \n",
            "20041                 Chicken with White Wine and Herbs    2.500     843.0   \n",
            "20045                                 Blueberry Compote    3.750     182.0   \n",
            "\n",
            "       protein   fat  sodium  #cakeweek  #wasteless  22-minute meals  \\\n",
            "521        0.0   1.0    38.0        0.0         0.0              0.0   \n",
            "601        2.0   3.0   697.0        0.0         0.0              0.0   \n",
            "717        1.0   7.0   103.0        0.0         0.0              0.0   \n",
            "805        2.0   1.0   438.0        0.0         0.0              0.0   \n",
            "834        0.0  68.0   124.0        0.0         0.0              0.0   \n",
            "...        ...   ...     ...        ...         ...              ...   \n",
            "20027     42.0  62.0   344.0        0.0         0.0              0.0   \n",
            "20032      0.0   0.0  2292.0        0.0         0.0              0.0   \n",
            "20039     11.0  28.0   642.0        0.0         0.0              0.0   \n",
            "20041     59.0  59.0   351.0        0.0         0.0              0.0   \n",
            "20045      1.0   0.0     3.0        0.0         0.0              0.0   \n",
            "\n",
            "       3-ingredient recipes  ...  yellow squash  yogurt  yonkers  yuca  \\\n",
            "521                     0.0  ...            0.0     0.0      0.0   0.0   \n",
            "601                     0.0  ...            0.0     0.0      0.0   0.0   \n",
            "717                     0.0  ...            0.0     0.0      0.0   0.0   \n",
            "805                     0.0  ...            0.0     0.0      0.0   0.0   \n",
            "834                     0.0  ...            0.0     0.0      0.0   0.0   \n",
            "...                     ...  ...            ...     ...      ...   ...   \n",
            "20027                   0.0  ...            0.0     0.0      0.0   0.0   \n",
            "20032                   0.0  ...            0.0     0.0      0.0   0.0   \n",
            "20039                   0.0  ...            0.0     0.0      0.0   0.0   \n",
            "20041                   0.0  ...            0.0     0.0      0.0   0.0   \n",
            "20045                   0.0  ...            0.0     0.0      0.0   0.0   \n",
            "\n",
            "       zucchini  cookbooks  leftovers  snack  snack week  turkey  \n",
            "521         0.0        0.0        0.0    0.0         0.0     0.0  \n",
            "601         0.0        0.0        0.0    0.0         0.0     0.0  \n",
            "717         0.0        0.0        0.0    0.0         0.0     0.0  \n",
            "805         0.0        0.0        0.0    0.0         0.0     0.0  \n",
            "834         0.0        0.0        0.0    0.0         0.0     0.0  \n",
            "...         ...        ...        ...    ...         ...     ...  \n",
            "20027       0.0        0.0        0.0    0.0         0.0     0.0  \n",
            "20032       0.0        0.0        0.0    0.0         0.0     0.0  \n",
            "20039       0.0        0.0        0.0    0.0         0.0     0.0  \n",
            "20041       0.0        0.0        0.0    0.0         0.0     0.0  \n",
            "20045       0.0        0.0        0.0    0.0         0.0     0.0  \n",
            "\n",
            "[1418 rows x 680 columns]\n"
          ]
        }
      ]
    },
    {
      "cell_type": "code",
      "source": [
        "#rename columns by removing 0 character\n",
        "df.rename(columns=lambda x: x.lstrip('e'), inplace=True)"
      ],
      "metadata": {
        "id": "s4EpFq9yr5Qi"
      },
      "execution_count": 79,
      "outputs": []
    },
    {
      "cell_type": "code",
      "source": [
        "#normalise column names by removing accents and special characters\n",
        "df.columns = df.columns.str.replace(' ', \"_\") #replace spaces with underscores\n",
        "df.columns = [unidecode.unidecode(col) for col in df.columns] #remove accents and special characters\n",
        "df.columns = df.columns.str.replace(r'[,._/&#-\\*\\']', \"\", regex=True) #convert to lowercase"
      ],
      "metadata": {
        "id": "YsR-eCMaXR50"
      },
      "execution_count": 85,
      "outputs": []
    },
    {
      "cell_type": "code",
      "source": [
        "#removing unnecessary columns\n",
        "df = df.loc[:, (df !=0).any(axis=0)]\n",
        "print(\"Remaining columns:\\n\", df.columns)\n",
        "\n",
        "#since this dataset contains 680 columns, i will reduce it by removing the columns where all the row values are equal to 0"
      ],
      "metadata": {
        "colab": {
          "base_uri": "https://localhost:8080/"
        },
        "id": "yKOJAIs3r5N0",
        "outputId": "37b5db3b-6960-437f-f9e1-8434c2e78eba"
      },
      "execution_count": 86,
      "outputs": [
        {
          "output_type": "stream",
          "name": "stdout",
          "text": [
            "Remaining columns:\n",
            " Index(['title', 'rating', 'calories', 'protein', 'fat', 'sodium', 'cakeweek',\n",
            "       'wasteless', '22-minutemeals', '3-ingredientrecipes',\n",
            "       ...\n",
            "       'yellowsquash', 'yogurt', 'yonkers', 'yuca', 'zucchini', 'cookbooks',\n",
            "       'snack', 'snackweek', 'turkey', 'caloriebins'],\n",
            "      dtype='object', length=648)\n"
          ]
        }
      ]
    },
    {
      "cell_type": "code",
      "source": [
        "#detecting outliers in the rating column and removing them using boxplot and IQR bounds\n",
        "sns.boxplot(x=df['rating'])\n",
        "plt.title(\"Boxplot of rating\")\n",
        "plt.show()\n",
        "\n",
        "q1 = df['rating'].quantile(0.25)\n",
        "q3 = df['rating'].quantile(0.75)\n",
        "iqr = q3 - q1\n",
        "lower_bound = q1 - 1.5 * iqr\n",
        "upper_bound = q3 + 1.5 * iqr\n",
        "\n",
        "#keep only values within IQR bounds\n",
        "df = df[(df['rating'] >= lower_bound) & (df['rating'] <= upper_bound)]\n",
        "\n",
        "df.shape\n",
        "df.info()"
      ],
      "metadata": {
        "colab": {
          "base_uri": "https://localhost:8080/",
          "height": 559
        },
        "id": "HUdMsJ3Er5LN",
        "outputId": "3ad065b9-6fa4-4fc9-acb8-8a3c49d32ab2"
      },
      "execution_count": 87,
      "outputs": [
        {
          "output_type": "display_data",
          "data": {
            "text/plain": [
              "<Figure size 640x480 with 1 Axes>"
            ],
            "image/png": "[encoded data removed]"
          },
          "metadata": {}
        },
        {
          "output_type": "stream",
          "name": "stdout",
          "text": [
            "<class 'pandas.core.frame.DataFrame'>\n",
            "Index: 13959 entries, 1 to 20051\n",
            "Columns: 648 entries, title to caloriebins\n",
            "dtypes: category(1), float64(646), object(1)\n",
            "memory usage: 69.0+ MB\n"
          ]
        }
      ]
    },
    {
      "cell_type": "code",
      "source": [
        "#EXPLORATORY DATA ANALYSIS\n",
        "#Histogram of recipe ratings: Distribution of recipes\n",
        "sns.histplot(df['rating'], bins=20, kde=True)\n",
        "plt.title(\"Histogram of recipe ratings\")\n",
        "plt.xlabel(\"Rating\")\n",
        "plt.ylabel(\"Frequency\")\n",
        "plt.grid(axis='y')\n",
        "plt.show()"
      ],
      "metadata": {
        "colab": {
          "base_uri": "https://localhost:8080/",
          "height": 472
        },
        "id": "CivcbiHpr5AT",
        "outputId": "b3ee0193-9758-4a90-ec93-ed2e3f70dbfc"
      },
      "execution_count": 88,
      "outputs": [
        {
          "output_type": "display_data",
          "data": {
            "text/plain": [
              "<Figure size 640x480 with 1 Axes>"
            ],
            "image/png": "[encoded data removed]"
          },
          "metadata": {}
        }
      ]
    },
    {
      "cell_type": "code",
      "source": [
        "### The dataset is too large so i am going to use PySpark for analysis along with Python\n",
        "spark = SparkSession.builder \\\n",
        "    .master(\"local\") \\\n",
        "    .appName(\"RecipeDataAnalysis\") \\\n",
        "    .getOrCreate()"
      ],
      "metadata": {
        "id": "3gwg9W5qBe7r"
      },
      "execution_count": 89,
      "outputs": []
    },
    {
      "cell_type": "code",
      "source": [
        "#creating a seperate dataframe to use in spark\n",
        "spark_df = spark.createDataFrame(df)"
      ],
      "metadata": {
        "id": "g4asy3RrBe4S"
      },
      "execution_count": 90,
      "outputs": []
    },
    {
      "cell_type": "code",
      "source": [
        "#Extract the top 5 foods with the highest calories\n",
        "highest_calories_df = spark_df.orderBy(spark_df[\"calories\"].desc()).select(\"title\", \"calories\").limit(5)\n",
        "\n",
        "#convert the spark dataframe to pandas dataframe for visualisation\n",
        "highest_calories_pd = highest_calories_df.toPandas()\n",
        "\n",
        "#create a bar plot using seaborn\n",
        "sns.boxplot(x=\"title\", y=\"calories\", data=highest_calories_pd)\n",
        "plt.title(\"Top 5 Foods with the Highest Calories\")\n",
        "plt.xlabel(\"Food Name\")\n",
        "plt.ylabel(\"Calories\")\n",
        "plt.xticks(rotation=45, ha='right')\n",
        "plt.show()"
      ],
      "metadata": {
        "colab": {
          "base_uri": "https://localhost:8080/",
          "height": 674
        },
        "id": "7erdRoG5Be1y",
        "outputId": "500ee4b5-f58a-4569-b596-8a1d7990314f"
      },
      "execution_count": 91,
      "outputs": [
        {
          "output_type": "display_data",
          "data": {
            "text/plain": [
              "<Figure size 640x480 with 1 Axes>"
            ],
            "image/png": "[encoded data removed]"
          },
          "metadata": {}
        }
      ]
    },
    {
      "cell_type": "code",
      "source": [
        "#scatter plot to show the relationship between calories and fat\n",
        "calories_fat_df = spark_df.select(\"calories\", \"fat\").toPandas()\n",
        "\n",
        "#scatter plot for calories vs fat\n",
        "plt.scatter(calories_fat_df[\"calories\"], calories_fat_df[\"fat\"], color='yellow')\n",
        "plt.title(\"Scatter Plot: Calories vs Fat\")\n",
        "plt.xlabel(\"Calories\")\n",
        "plt.ylabel(\"Fat\")\n",
        "plt.show()"
      ],
      "metadata": {
        "colab": {
          "base_uri": "https://localhost:8080/",
          "height": 472
        },
        "id": "7dHdYYjgBezI",
        "outputId": "0a573f59-690c-4cf9-dc6c-984319d9ff8e"
      },
      "execution_count": 92,
      "outputs": [
        {
          "output_type": "display_data",
          "data": {
            "text/plain": [
              "<Figure size 640x480 with 1 Axes>"
            ],
            "image/png": "[encoded data removed]"
          },
          "metadata": {}
        }
      ]
    },
    {
      "cell_type": "code",
      "source": [
        "#scatter plot to show the relationship between protein and fat\n",
        "calories_fat_df = spark_df.select(\"protein\", \"fat\").toPandas()\n",
        "\n",
        "#scatter plot for calories vs fat\n",
        "plt.scatter(calories_fat_df[\"protein\"], calories_fat_df[\"fat\"], color='red')\n",
        "plt.title(\"Scatter Plot: Protein vs Fat\")\n",
        "plt.xlabel(\"Protein\")\n",
        "plt.ylabel(\"Fat\")\n",
        "plt.show()"
      ],
      "metadata": {
        "colab": {
          "base_uri": "https://localhost:8080/",
          "height": 472
        },
        "id": "4Q4euNf5Bewu",
        "outputId": "27a532e5-4f4a-4141-e344-7847979a0f83"
      },
      "execution_count": 93,
      "outputs": [
        {
          "output_type": "display_data",
          "data": {
            "text/plain": [
              "<Figure size 640x480 with 1 Axes>"
            ],
            "image/png": "[encoded data removed]"
          },
          "metadata": {}
        }
      ]
    },
    {
      "cell_type": "code",
      "source": [
        "#using heatmap to visualize the correlation between calories, protein, fat and sodium\n",
        "\n",
        "correlation_matrix = df[['calories', 'protein', 'fat', 'sodium']].corr()\n",
        "plt.figure(figsize=(8, 6))\n",
        "sns.heatmap(correlation_matrix, annot=True, cmap='Spectral', fmt=\".2f\")\n",
        "plt.title(\"Correlation Heatmap of Nutritional Components\")\n",
        "plt.show()\n",
        "#create a heatmap using seaborn"
      ],
      "metadata": {
        "colab": {
          "base_uri": "https://localhost:8080/",
          "height": 545
        },
        "id": "_sMeFWiIBeuT",
        "outputId": "d65bde65-fbf2-4ea6-bf41-dbe091728c25"
      },
      "execution_count": 94,
      "outputs": [
        {
          "output_type": "display_data",
          "data": {
            "text/plain": [
              "<Figure size 800x600 with 2 Axes>"
            ],
            "image/png": "[encoded data removed]"
          },
          "metadata": {}
        }
      ]
    },
    {
      "cell_type": "code",
      "source": [
        "#creating a stacked bar plot to show the proportion of different recipe types\n",
        "#eg: vegan, vegetarian, accross varipous category ranges\n",
        "bins = [0, 50, 100, 150, 200]\n",
        "labels = ['0-50', '51-100', '101-150', '151-200']\n",
        "df['calorie_bins'] = pd.cut(df['calories'], bins=bins, labels=labels)\n",
        "\n",
        "#convert the occurencesof each vegan/non vegan in each calorie bin\n",
        "diet_counts = df.groupby(['calorie_bins', 'vegan']).size().unstack(fill_value=0)\n",
        "\n",
        "#create a stacked bar plot\n",
        "diet_counts.plot(kind='bar', stacked=True, color=['red', 'blue'])\n",
        "plt.title(\"Dietary Restrictions Across Calorie Ranges\")\n",
        "plt.xlabel(\"Calorie Ranges\")\n",
        "plt.ylabel(\"Numbetr of Recipes\")\n",
        "plt.legend(title='Dietary Type', labels=['Non-Vegan', 'Vegan'])\n",
        "plt.show()\n",
        "\n",
        "#result is vegan recipes have lesser calories as compARED TO NON VEGAN recipes"
      ],
      "metadata": {
        "colab": {
          "base_uri": "https://localhost:8080/",
          "height": 570
        },
        "id": "qqKTAZH5Bery",
        "outputId": "0d21ae1b-85b8-44b7-d6b8-7513e685fc49"
      },
      "execution_count": 95,
      "outputs": [
        {
          "output_type": "stream",
          "name": "stderr",
          "text": [
            "<ipython-input-95-c396d52b3138>:8: FutureWarning: The default of observed=False is deprecated and will be changed to True in a future version of pandas. Pass observed=False to retain current behavior or observed=True to adopt the future default and silence this warning.\n",
            "  diet_counts = df.groupby(['calorie_bins', 'vegan']).size().unstack(fill_value=0)\n"
          ]
        },
        {
          "output_type": "display_data",
          "data": {
            "text/plain": [
              "<Figure size 640x480 with 1 Axes>"
            ],
            "image/png": "[encoded data removed]"
          },
          "metadata": {}
        }
      ]
    },
    {
      "cell_type": "code",
      "source": [
        "### plotting a graph to depict the count of recipes with relation to dietary restrictions###\n",
        "#create a list of dietary preference columns\n",
        "dietary_columns = [\"vegan\", \"vegetarian\", \"wheatglutenfree\", \"lowcarb\", \"dairyfree\", \"lowsugar\", \"peanutfree\"]\n",
        "\n",
        "#transform the dataframe to long format using selectexpr\n",
        "melted_df = spark_df.selectExpr(\"stack({0}, {1}) as (dietary_preference, is_preferred)\".format(len(dietary_columns), \", \".join([\"'{0}', '{0}'\".format(col_name) for col_name in dietary_columns])))\n",
        "\n",
        "#filter to keep only the preferred dietary preferences\n",
        "count_df = melted_df.filter(col(\"is_preferred\") == 1) \\\n",
        "    .groupby(\"dietary_preference\") \\\n",
        "    .agg(count(\"*\").alias(\"count\"))\n",
        "\n",
        "#collect the results into a pandas dataframe\n",
        "pandas_df = count_df.toPandas()\n",
        "\n",
        "#plotting\n",
        "plt.figure(figsize=(10, 6))\n",
        "plt.figure(figsize=(10, 6))\n",
        "plt.bar(pandas_df['dietary_preference'], pandas_df['count'], color='purple')  # Use square brackets for column names\n",
        "plt.title(\"Dietary Preferences Count\")\n",
        "plt.xlabel('Dietary Preference')\n",
        "plt.ylabel('Count')\n",
        "plt.xticks(rotation=45)\n",
        "plt.grid(axis='y')\n",
        "\n",
        "#show the plot\n",
        "plt.tight_layout()\n",
        "plt.show()\n",
        "#peanut free recipes are gaining popularity as compared to other dietary restrictions. low sugar recipes are the least***"
      ],
      "metadata": {
        "colab": {
          "base_uri": "https://localhost:8080/",
          "height": 624
        },
        "id": "649Sv4lWBepK",
        "outputId": "f43b7e9a-c9ef-4dbf-cdc3-8affca40b8af"
      },
      "execution_count": 96,
      "outputs": [
        {
          "output_type": "display_data",
          "data": {
            "text/plain": [
              "<Figure size 1000x600 with 0 Axes>"
            ]
          },
          "metadata": {}
        },
        {
          "output_type": "display_data",
          "data": {
            "text/plain": [
              "<Figure size 1000x600 with 1 Axes>"
            ],
            "image/png": "[encoded data removed]"
          },
          "metadata": {}
        }
      ]
    },
    {
      "cell_type": "code",
      "source": [
        "#plotting a pie chart to depict the relationship between seasons and number of recipes\n",
        "from pyspark.sql.functions import col, sum as spark_sum\n",
        "#define season columns\n",
        "season_columns = [\"summer\", \"winter\", \"spring\", \"fall\"]\n",
        "\n",
        "#create a new dataframe to sumup the number of recipes in each season\n",
        "season_counts = spark_df.select([spark_sum(col(season)).alias(season) for season in season_columns]).collect()[0]\n",
        "\n",
        "#prepare data for plotting\n",
        "season_labels = season_columns\n",
        "season_sizes = [season_counts[season] for season in season_columns]\n",
        "\n",
        "#create a pie chart\n",
        "plt.figure(figsize=(8, 8))\n",
        "plt.pie(season_sizes, labels=season_labels, autopct='%1.1f%%', startangle=90)\n",
        "plt.title(\"Distribution of Recipes Across Seasons\")\n",
        "plt.axis('equal')\n",
        "\n",
        "#show the plot\n",
        "plt.show()\n",
        "\n",
        "#the majority of recipes are made for summer, with fall and winter coming is closer. the least recipes are in spring."
      ],
      "metadata": {
        "colab": {
          "base_uri": "https://localhost:8080/",
          "height": 676
        },
        "id": "DK2PxEIKS_aS",
        "outputId": "e92068e1-9ea9-4cca-ea92-769d722f8d48"
      },
      "execution_count": 97,
      "outputs": [
        {
          "output_type": "display_data",
          "data": {
            "text/plain": [
              "<Figure size 800x800 with 1 Axes>"
            ],
            "image/png": "[encoded data removed]"
          },
          "metadata": {}
        }
      ]
    }
  ]
}